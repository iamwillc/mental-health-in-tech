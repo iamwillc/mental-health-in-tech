{
 "cells": [
  {
   "cell_type": "markdown",
   "metadata": {},
   "source": [
    "### *Exploratory Data Analysis & Data Visualization*\n",
    "---"
   ]
  },
  {
   "cell_type": "markdown",
   "metadata": {},
   "source": [
    "### Importing Libraries"
   ]
  },
  {
   "cell_type": "code",
   "execution_count": 27,
   "metadata": {},
   "outputs": [],
   "source": [
    "import numpy as np\n",
    "import pandas as pd\n",
    "from sklearn.impute import SimpleImputer\n",
    "from sklearn.ensemble import RandomForestClassifier\n",
    "from sklearn.model_selection import train_test_split, cross_val_score, GridSearchCV\n",
    "import matplotlib.pyplot as plt\n",
    "import seaborn as sns"
   ]
  },
  {
   "cell_type": "markdown",
   "metadata": {},
   "source": [
    "### Reading in Data"
   ]
  },
  {
   "cell_type": "code",
   "execution_count": 28,
   "metadata": {},
   "outputs": [],
   "source": [
    "df = pd.read_csv('../datasets/mental-heath-in-tech-2016_20161114.csv')"
   ]
  },
  {
   "cell_type": "markdown",
   "metadata": {},
   "source": [
    "### Dropping Columns"
   ]
  },
  {
   "cell_type": "code",
   "execution_count": 29,
   "metadata": {},
   "outputs": [],
   "source": [
    "df.drop(df.columns[[0,1,2,9,14,15,16,17,18,19,20,21,22,30,35,36,37,38,39,42,43,44,45,46,47,48,49,50,51,53,54,57,58,59,60,61,62]], axis=1, inplace=True)"
   ]
  },
  {
   "cell_type": "code",
   "execution_count": 43,
   "metadata": {},
   "outputs": [
    {
     "data": {
      "text/html": [
       "<div>\n",
       "<style scoped>\n",
       "    .dataframe tbody tr th:only-of-type {\n",
       "        vertical-align: middle;\n",
       "    }\n",
       "\n",
       "    .dataframe tbody tr th {\n",
       "        vertical-align: top;\n",
       "    }\n",
       "\n",
       "    .dataframe thead th {\n",
       "        text-align: right;\n",
       "    }\n",
       "</style>\n",
       "<table border=\"1\" class=\"dataframe\">\n",
       "  <thead>\n",
       "    <tr style=\"text-align: right;\">\n",
       "      <th></th>\n",
       "      <th>Does your employer provide mental health benefits as part of healthcare coverage?</th>\n",
       "      <th>Do you know the options for mental health care available under your employer-provided coverage?</th>\n",
       "      <th>Has your employer ever formally discussed mental health (for example, as part of a wellness campaign or other official communication)?</th>\n",
       "      <th>Does your employer offer resources to learn more about mental health concerns and options for seeking help?</th>\n",
       "      <th>Is your anonymity protected if you choose to take advantage of mental health or substance abuse treatment resources provided by your employer?</th>\n",
       "      <th>Do you think that discussing a mental health disorder with your employer would have negative consequences?</th>\n",
       "      <th>Do you think that discussing a physical health issue with your employer would have negative consequences?</th>\n",
       "      <th>Would you feel comfortable discussing a mental health disorder with your coworkers?</th>\n",
       "      <th>Would you feel comfortable discussing a mental health disorder with your direct supervisor(s)?</th>\n",
       "      <th>Do you have previous employers?</th>\n",
       "      <th>...</th>\n",
       "      <th>Was your anonymity protected if you chose to take advantage of mental health or substance abuse treatment resources with previous employers?</th>\n",
       "      <th>Do you think that discussing a physical health issue with previous employers would have negative consequences?</th>\n",
       "      <th>Would you have been willing to discuss a mental health issue with your previous co-workers?</th>\n",
       "      <th>Would you have been willing to discuss a mental health issue with your direct supervisor(s)?</th>\n",
       "      <th>Did you feel that your previous employers took mental health as seriously as physical health?</th>\n",
       "      <th>Do you feel that being identified as a person with a mental health issue would hurt your career?</th>\n",
       "      <th>Do you think that team members/co-workers would view you more negatively if they knew you suffered from a mental health issue?</th>\n",
       "      <th>Have you ever sought treatment for a mental health issue from a mental health professional?</th>\n",
       "      <th>What is your age?</th>\n",
       "      <th>What is your gender?</th>\n",
       "    </tr>\n",
       "  </thead>\n",
       "  <tbody>\n",
       "    <tr>\n",
       "      <th>0</th>\n",
       "      <td>Not eligible for coverage / N/A</td>\n",
       "      <td>No</td>\n",
       "      <td>No</td>\n",
       "      <td>No</td>\n",
       "      <td>I don't know</td>\n",
       "      <td>No</td>\n",
       "      <td>No</td>\n",
       "      <td>Maybe</td>\n",
       "      <td>Yes</td>\n",
       "      <td>1</td>\n",
       "      <td>...</td>\n",
       "      <td>I don't know</td>\n",
       "      <td>None of them</td>\n",
       "      <td>Some of my previous employers</td>\n",
       "      <td>Some of my previous employers</td>\n",
       "      <td>I don't know</td>\n",
       "      <td>Maybe</td>\n",
       "      <td>No, I don't think they would</td>\n",
       "      <td>0</td>\n",
       "      <td>39.0</td>\n",
       "      <td>male</td>\n",
       "    </tr>\n",
       "    <tr>\n",
       "      <th>1</th>\n",
       "      <td>No</td>\n",
       "      <td>Yes</td>\n",
       "      <td>Yes</td>\n",
       "      <td>Yes</td>\n",
       "      <td>Yes</td>\n",
       "      <td>No</td>\n",
       "      <td>No</td>\n",
       "      <td>Maybe</td>\n",
       "      <td>Yes</td>\n",
       "      <td>1</td>\n",
       "      <td>...</td>\n",
       "      <td>Yes, always</td>\n",
       "      <td>None of them</td>\n",
       "      <td>No, at none of my previous employers</td>\n",
       "      <td>Some of my previous employers</td>\n",
       "      <td>Some did</td>\n",
       "      <td>No, I don't think it would</td>\n",
       "      <td>No, I don't think they would</td>\n",
       "      <td>1</td>\n",
       "      <td>29.0</td>\n",
       "      <td>male</td>\n",
       "    </tr>\n",
       "    <tr>\n",
       "      <th>2</th>\n",
       "      <td>No</td>\n",
       "      <td>No</td>\n",
       "      <td>No</td>\n",
       "      <td>No</td>\n",
       "      <td>I don't know</td>\n",
       "      <td>Maybe</td>\n",
       "      <td>No</td>\n",
       "      <td>Maybe</td>\n",
       "      <td>Maybe</td>\n",
       "      <td>1</td>\n",
       "      <td>...</td>\n",
       "      <td>I don't know</td>\n",
       "      <td>Some of them</td>\n",
       "      <td>Some of my previous employers</td>\n",
       "      <td>I don't know</td>\n",
       "      <td>I don't know</td>\n",
       "      <td>Maybe</td>\n",
       "      <td>Maybe</td>\n",
       "      <td>1</td>\n",
       "      <td>38.0</td>\n",
       "      <td>male</td>\n",
       "    </tr>\n",
       "    <tr>\n",
       "      <th>3</th>\n",
       "      <td>Yes</td>\n",
       "      <td>No</td>\n",
       "      <td>No</td>\n",
       "      <td>No</td>\n",
       "      <td>I don't know</td>\n",
       "      <td>Maybe</td>\n",
       "      <td>No</td>\n",
       "      <td>Maybe</td>\n",
       "      <td>Yes</td>\n",
       "      <td>1</td>\n",
       "      <td>...</td>\n",
       "      <td>I don't know</td>\n",
       "      <td>Some of them</td>\n",
       "      <td>Some of my previous employers</td>\n",
       "      <td>Some of my previous employers</td>\n",
       "      <td>I don't know</td>\n",
       "      <td>Yes, I think it would</td>\n",
       "      <td>Maybe</td>\n",
       "      <td>1</td>\n",
       "      <td>43.0</td>\n",
       "      <td>male</td>\n",
       "    </tr>\n",
       "    <tr>\n",
       "      <th>4</th>\n",
       "      <td>Yes</td>\n",
       "      <td>Yes</td>\n",
       "      <td>No</td>\n",
       "      <td>No</td>\n",
       "      <td>No</td>\n",
       "      <td>Yes</td>\n",
       "      <td>Maybe</td>\n",
       "      <td>Maybe</td>\n",
       "      <td>No</td>\n",
       "      <td>1</td>\n",
       "      <td>...</td>\n",
       "      <td>I don't know</td>\n",
       "      <td>Some of them</td>\n",
       "      <td>No, at none of my previous employers</td>\n",
       "      <td>Some of my previous employers</td>\n",
       "      <td>Some did</td>\n",
       "      <td>Yes, I think it would</td>\n",
       "      <td>Maybe</td>\n",
       "      <td>1</td>\n",
       "      <td>43.0</td>\n",
       "      <td>female</td>\n",
       "    </tr>\n",
       "  </tbody>\n",
       "</table>\n",
       "<p>5 rows × 24 columns</p>\n",
       "</div>"
      ],
      "text/plain": [
       "  Does your employer provide mental health benefits as part of healthcare coverage?  \\\n",
       "0                    Not eligible for coverage / N/A                                  \n",
       "1                                                 No                                  \n",
       "2                                                 No                                  \n",
       "3                                                Yes                                  \n",
       "4                                                Yes                                  \n",
       "\n",
       "  Do you know the options for mental health care available under your employer-provided coverage?  \\\n",
       "0                                                 No                                                \n",
       "1                                                Yes                                                \n",
       "2                                                 No                                                \n",
       "3                                                 No                                                \n",
       "4                                                Yes                                                \n",
       "\n",
       "  Has your employer ever formally discussed mental health (for example, as part of a wellness campaign or other official communication)?  \\\n",
       "0                                                 No                                                                                       \n",
       "1                                                Yes                                                                                       \n",
       "2                                                 No                                                                                       \n",
       "3                                                 No                                                                                       \n",
       "4                                                 No                                                                                       \n",
       "\n",
       "  Does your employer offer resources to learn more about mental health concerns and options for seeking help?  \\\n",
       "0                                                 No                                                            \n",
       "1                                                Yes                                                            \n",
       "2                                                 No                                                            \n",
       "3                                                 No                                                            \n",
       "4                                                 No                                                            \n",
       "\n",
       "  Is your anonymity protected if you choose to take advantage of mental health or substance abuse treatment resources provided by your employer?  \\\n",
       "0                                       I don't know                                                                                               \n",
       "1                                                Yes                                                                                               \n",
       "2                                       I don't know                                                                                               \n",
       "3                                       I don't know                                                                                               \n",
       "4                                                 No                                                                                               \n",
       "\n",
       "  Do you think that discussing a mental health disorder with your employer would have negative consequences?  \\\n",
       "0                                                 No                                                           \n",
       "1                                                 No                                                           \n",
       "2                                              Maybe                                                           \n",
       "3                                              Maybe                                                           \n",
       "4                                                Yes                                                           \n",
       "\n",
       "  Do you think that discussing a physical health issue with your employer would have negative consequences?  \\\n",
       "0                                                 No                                                          \n",
       "1                                                 No                                                          \n",
       "2                                                 No                                                          \n",
       "3                                                 No                                                          \n",
       "4                                              Maybe                                                          \n",
       "\n",
       "  Would you feel comfortable discussing a mental health disorder with your coworkers?  \\\n",
       "0                                              Maybe                                    \n",
       "1                                              Maybe                                    \n",
       "2                                              Maybe                                    \n",
       "3                                              Maybe                                    \n",
       "4                                              Maybe                                    \n",
       "\n",
       "  Would you feel comfortable discussing a mental health disorder with your direct supervisor(s)?  \\\n",
       "0                                                Yes                                               \n",
       "1                                                Yes                                               \n",
       "2                                              Maybe                                               \n",
       "3                                                Yes                                               \n",
       "4                                                 No                                               \n",
       "\n",
       "  Do you have previous employers?  ...  \\\n",
       "0                               1  ...   \n",
       "1                               1  ...   \n",
       "2                               1  ...   \n",
       "3                               1  ...   \n",
       "4                               1  ...   \n",
       "\n",
       "  Was your anonymity protected if you chose to take advantage of mental health or substance abuse treatment resources with previous employers?  \\\n",
       "0                                       I don't know                                                                                             \n",
       "1                                        Yes, always                                                                                             \n",
       "2                                       I don't know                                                                                             \n",
       "3                                       I don't know                                                                                             \n",
       "4                                       I don't know                                                                                             \n",
       "\n",
       "  Do you think that discussing a physical health issue with previous employers would have negative consequences?  \\\n",
       "0                                       None of them                                                               \n",
       "1                                       None of them                                                               \n",
       "2                                       Some of them                                                               \n",
       "3                                       Some of them                                                               \n",
       "4                                       Some of them                                                               \n",
       "\n",
       "  Would you have been willing to discuss a mental health issue with your previous co-workers?  \\\n",
       "0                      Some of my previous employers                                            \n",
       "1               No, at none of my previous employers                                            \n",
       "2                      Some of my previous employers                                            \n",
       "3                      Some of my previous employers                                            \n",
       "4               No, at none of my previous employers                                            \n",
       "\n",
       "  Would you have been willing to discuss a mental health issue with your direct supervisor(s)?  \\\n",
       "0                      Some of my previous employers                                             \n",
       "1                      Some of my previous employers                                             \n",
       "2                                       I don't know                                             \n",
       "3                      Some of my previous employers                                             \n",
       "4                      Some of my previous employers                                             \n",
       "\n",
       "  Did you feel that your previous employers took mental health as seriously as physical health?  \\\n",
       "0                                       I don't know                                              \n",
       "1                                           Some did                                              \n",
       "2                                       I don't know                                              \n",
       "3                                       I don't know                                              \n",
       "4                                           Some did                                              \n",
       "\n",
       "  Do you feel that being identified as a person with a mental health issue would hurt your career?  \\\n",
       "0                                              Maybe                                                 \n",
       "1                         No, I don't think it would                                                 \n",
       "2                                              Maybe                                                 \n",
       "3                              Yes, I think it would                                                 \n",
       "4                              Yes, I think it would                                                 \n",
       "\n",
       "  Do you think that team members/co-workers would view you more negatively if they knew you suffered from a mental health issue?  \\\n",
       "0                       No, I don't think they would                                                                               \n",
       "1                       No, I don't think they would                                                                               \n",
       "2                                              Maybe                                                                               \n",
       "3                                              Maybe                                                                               \n",
       "4                                              Maybe                                                                               \n",
       "\n",
       "  Have you ever sought treatment for a mental health issue from a mental health professional?  \\\n",
       "0                                                  0                                            \n",
       "1                                                  1                                            \n",
       "2                                                  1                                            \n",
       "3                                                  1                                            \n",
       "4                                                  1                                            \n",
       "\n",
       "  What is your age? What is your gender?  \n",
       "0              39.0                 male  \n",
       "1              29.0                 male  \n",
       "2              38.0                 male  \n",
       "3              43.0                 male  \n",
       "4              43.0               female  \n",
       "\n",
       "[5 rows x 24 columns]"
      ]
     },
     "execution_count": 43,
     "metadata": {},
     "output_type": "execute_result"
    }
   ],
   "source": [
    "df.head()"
   ]
  },
  {
   "cell_type": "markdown",
   "metadata": {},
   "source": [
    "### Null Value Data Visualization"
   ]
  },
  {
   "cell_type": "code",
   "execution_count": 31,
   "metadata": {},
   "outputs": [
    {
     "data": {
      "text/html": [
       "<div>\n",
       "<style scoped>\n",
       "    .dataframe tbody tr th:only-of-type {\n",
       "        vertical-align: middle;\n",
       "    }\n",
       "\n",
       "    .dataframe tbody tr th {\n",
       "        vertical-align: top;\n",
       "    }\n",
       "\n",
       "    .dataframe thead th {\n",
       "        text-align: right;\n",
       "    }\n",
       "</style>\n",
       "<table border=\"1\" class=\"dataframe\">\n",
       "  <thead>\n",
       "    <tr style=\"text-align: right;\">\n",
       "      <th></th>\n",
       "      <th>Variable</th>\n",
       "      <th>Type</th>\n",
       "      <th>Count</th>\n",
       "      <th>UniqueValues</th>\n",
       "      <th>Unique/Count Ratio</th>\n",
       "      <th>Count of NaN</th>\n",
       "      <th>Percentage NaN</th>\n",
       "    </tr>\n",
       "  </thead>\n",
       "  <tbody>\n",
       "    <tr>\n",
       "      <th>10</th>\n",
       "      <td>If yes, what percentage of your work time (tim...</td>\n",
       "      <td>object</td>\n",
       "      <td>204</td>\n",
       "      <td>5</td>\n",
       "      <td>0.024510</td>\n",
       "      <td>1229</td>\n",
       "      <td>85.764131</td>\n",
       "    </tr>\n",
       "    <tr>\n",
       "      <th>0</th>\n",
       "      <td>Is your primary role within your company relat...</td>\n",
       "      <td>float64</td>\n",
       "      <td>263</td>\n",
       "      <td>3</td>\n",
       "      <td>0.011407</td>\n",
       "      <td>1170</td>\n",
       "      <td>81.646895</td>\n",
       "    </tr>\n",
       "    <tr>\n",
       "      <th>2</th>\n",
       "      <td>Do you know the options for mental health care...</td>\n",
       "      <td>object</td>\n",
       "      <td>1013</td>\n",
       "      <td>4</td>\n",
       "      <td>0.003949</td>\n",
       "      <td>420</td>\n",
       "      <td>29.309142</td>\n",
       "    </tr>\n",
       "    <tr>\n",
       "      <th>3</th>\n",
       "      <td>Has your employer ever formally discussed ment...</td>\n",
       "      <td>object</td>\n",
       "      <td>1146</td>\n",
       "      <td>4</td>\n",
       "      <td>0.003490</td>\n",
       "      <td>287</td>\n",
       "      <td>20.027913</td>\n",
       "    </tr>\n",
       "    <tr>\n",
       "      <th>4</th>\n",
       "      <td>Does your employer offer resources to learn mo...</td>\n",
       "      <td>object</td>\n",
       "      <td>1146</td>\n",
       "      <td>4</td>\n",
       "      <td>0.003490</td>\n",
       "      <td>287</td>\n",
       "      <td>20.027913</td>\n",
       "    </tr>\n",
       "    <tr>\n",
       "      <th>5</th>\n",
       "      <td>Is your anonymity protected if you choose to t...</td>\n",
       "      <td>object</td>\n",
       "      <td>1146</td>\n",
       "      <td>4</td>\n",
       "      <td>0.003490</td>\n",
       "      <td>287</td>\n",
       "      <td>20.027913</td>\n",
       "    </tr>\n",
       "    <tr>\n",
       "      <th>6</th>\n",
       "      <td>Do you think that discussing a mental health d...</td>\n",
       "      <td>object</td>\n",
       "      <td>1146</td>\n",
       "      <td>4</td>\n",
       "      <td>0.003490</td>\n",
       "      <td>287</td>\n",
       "      <td>20.027913</td>\n",
       "    </tr>\n",
       "    <tr>\n",
       "      <th>7</th>\n",
       "      <td>Do you think that discussing a physical health...</td>\n",
       "      <td>object</td>\n",
       "      <td>1146</td>\n",
       "      <td>4</td>\n",
       "      <td>0.003490</td>\n",
       "      <td>287</td>\n",
       "      <td>20.027913</td>\n",
       "    </tr>\n",
       "    <tr>\n",
       "      <th>8</th>\n",
       "      <td>Would you feel comfortable discussing a mental...</td>\n",
       "      <td>object</td>\n",
       "      <td>1146</td>\n",
       "      <td>4</td>\n",
       "      <td>0.003490</td>\n",
       "      <td>287</td>\n",
       "      <td>20.027913</td>\n",
       "    </tr>\n",
       "    <tr>\n",
       "      <th>9</th>\n",
       "      <td>Would you feel comfortable discussing a mental...</td>\n",
       "      <td>object</td>\n",
       "      <td>1146</td>\n",
       "      <td>4</td>\n",
       "      <td>0.003490</td>\n",
       "      <td>287</td>\n",
       "      <td>20.027913</td>\n",
       "    </tr>\n",
       "    <tr>\n",
       "      <th>1</th>\n",
       "      <td>Does your employer provide mental health benef...</td>\n",
       "      <td>object</td>\n",
       "      <td>1146</td>\n",
       "      <td>5</td>\n",
       "      <td>0.004363</td>\n",
       "      <td>287</td>\n",
       "      <td>20.027913</td>\n",
       "    </tr>\n",
       "    <tr>\n",
       "      <th>16</th>\n",
       "      <td>Was your anonymity protected if you chose to t...</td>\n",
       "      <td>object</td>\n",
       "      <td>1264</td>\n",
       "      <td>5</td>\n",
       "      <td>0.003956</td>\n",
       "      <td>169</td>\n",
       "      <td>11.793440</td>\n",
       "    </tr>\n",
       "    <tr>\n",
       "      <th>20</th>\n",
       "      <td>Did you feel that your previous employers took...</td>\n",
       "      <td>object</td>\n",
       "      <td>1264</td>\n",
       "      <td>5</td>\n",
       "      <td>0.003956</td>\n",
       "      <td>169</td>\n",
       "      <td>11.793440</td>\n",
       "    </tr>\n",
       "    <tr>\n",
       "      <th>19</th>\n",
       "      <td>Would you have been willing to discuss a menta...</td>\n",
       "      <td>object</td>\n",
       "      <td>1264</td>\n",
       "      <td>5</td>\n",
       "      <td>0.003956</td>\n",
       "      <td>169</td>\n",
       "      <td>11.793440</td>\n",
       "    </tr>\n",
       "    <tr>\n",
       "      <th>18</th>\n",
       "      <td>Would you have been willing to discuss a menta...</td>\n",
       "      <td>object</td>\n",
       "      <td>1264</td>\n",
       "      <td>4</td>\n",
       "      <td>0.003165</td>\n",
       "      <td>169</td>\n",
       "      <td>11.793440</td>\n",
       "    </tr>\n",
       "    <tr>\n",
       "      <th>17</th>\n",
       "      <td>Do you think that discussing a physical health...</td>\n",
       "      <td>object</td>\n",
       "      <td>1264</td>\n",
       "      <td>4</td>\n",
       "      <td>0.003165</td>\n",
       "      <td>169</td>\n",
       "      <td>11.793440</td>\n",
       "    </tr>\n",
       "    <tr>\n",
       "      <th>13</th>\n",
       "      <td>Were you aware of the options for mental healt...</td>\n",
       "      <td>object</td>\n",
       "      <td>1264</td>\n",
       "      <td>5</td>\n",
       "      <td>0.003956</td>\n",
       "      <td>169</td>\n",
       "      <td>11.793440</td>\n",
       "    </tr>\n",
       "    <tr>\n",
       "      <th>15</th>\n",
       "      <td>Did your previous employers provide resources ...</td>\n",
       "      <td>object</td>\n",
       "      <td>1264</td>\n",
       "      <td>4</td>\n",
       "      <td>0.003165</td>\n",
       "      <td>169</td>\n",
       "      <td>11.793440</td>\n",
       "    </tr>\n",
       "    <tr>\n",
       "      <th>14</th>\n",
       "      <td>Did your previous employers ever formally disc...</td>\n",
       "      <td>object</td>\n",
       "      <td>1264</td>\n",
       "      <td>5</td>\n",
       "      <td>0.003956</td>\n",
       "      <td>169</td>\n",
       "      <td>11.793440</td>\n",
       "    </tr>\n",
       "    <tr>\n",
       "      <th>12</th>\n",
       "      <td>Have your previous employers provided mental h...</td>\n",
       "      <td>object</td>\n",
       "      <td>1264</td>\n",
       "      <td>5</td>\n",
       "      <td>0.003956</td>\n",
       "      <td>169</td>\n",
       "      <td>11.793440</td>\n",
       "    </tr>\n",
       "    <tr>\n",
       "      <th>25</th>\n",
       "      <td>What is your gender?</td>\n",
       "      <td>object</td>\n",
       "      <td>1430</td>\n",
       "      <td>71</td>\n",
       "      <td>0.049650</td>\n",
       "      <td>3</td>\n",
       "      <td>0.209351</td>\n",
       "    </tr>\n",
       "    <tr>\n",
       "      <th>11</th>\n",
       "      <td>Do you have previous employers?</td>\n",
       "      <td>int64</td>\n",
       "      <td>1433</td>\n",
       "      <td>2</td>\n",
       "      <td>0.001396</td>\n",
       "      <td>0</td>\n",
       "      <td>0.000000</td>\n",
       "    </tr>\n",
       "    <tr>\n",
       "      <th>21</th>\n",
       "      <td>Do you feel that being identified as a person ...</td>\n",
       "      <td>object</td>\n",
       "      <td>1433</td>\n",
       "      <td>5</td>\n",
       "      <td>0.003489</td>\n",
       "      <td>0</td>\n",
       "      <td>0.000000</td>\n",
       "    </tr>\n",
       "    <tr>\n",
       "      <th>22</th>\n",
       "      <td>Do you think that team members/co-workers woul...</td>\n",
       "      <td>object</td>\n",
       "      <td>1433</td>\n",
       "      <td>5</td>\n",
       "      <td>0.003489</td>\n",
       "      <td>0</td>\n",
       "      <td>0.000000</td>\n",
       "    </tr>\n",
       "    <tr>\n",
       "      <th>23</th>\n",
       "      <td>Have you ever sought treatment for a mental he...</td>\n",
       "      <td>int64</td>\n",
       "      <td>1433</td>\n",
       "      <td>2</td>\n",
       "      <td>0.001396</td>\n",
       "      <td>0</td>\n",
       "      <td>0.000000</td>\n",
       "    </tr>\n",
       "    <tr>\n",
       "      <th>24</th>\n",
       "      <td>What is your age?</td>\n",
       "      <td>int64</td>\n",
       "      <td>1433</td>\n",
       "      <td>53</td>\n",
       "      <td>0.036985</td>\n",
       "      <td>0</td>\n",
       "      <td>0.000000</td>\n",
       "    </tr>\n",
       "  </tbody>\n",
       "</table>\n",
       "</div>"
      ],
      "text/plain": [
       "                                             Variable     Type  Count  \\\n",
       "10  If yes, what percentage of your work time (tim...   object    204   \n",
       "0   Is your primary role within your company relat...  float64    263   \n",
       "2   Do you know the options for mental health care...   object   1013   \n",
       "3   Has your employer ever formally discussed ment...   object   1146   \n",
       "4   Does your employer offer resources to learn mo...   object   1146   \n",
       "5   Is your anonymity protected if you choose to t...   object   1146   \n",
       "6   Do you think that discussing a mental health d...   object   1146   \n",
       "7   Do you think that discussing a physical health...   object   1146   \n",
       "8   Would you feel comfortable discussing a mental...   object   1146   \n",
       "9   Would you feel comfortable discussing a mental...   object   1146   \n",
       "1   Does your employer provide mental health benef...   object   1146   \n",
       "16  Was your anonymity protected if you chose to t...   object   1264   \n",
       "20  Did you feel that your previous employers took...   object   1264   \n",
       "19  Would you have been willing to discuss a menta...   object   1264   \n",
       "18  Would you have been willing to discuss a menta...   object   1264   \n",
       "17  Do you think that discussing a physical health...   object   1264   \n",
       "13  Were you aware of the options for mental healt...   object   1264   \n",
       "15  Did your previous employers provide resources ...   object   1264   \n",
       "14  Did your previous employers ever formally disc...   object   1264   \n",
       "12  Have your previous employers provided mental h...   object   1264   \n",
       "25                               What is your gender?   object   1430   \n",
       "11                    Do you have previous employers?    int64   1433   \n",
       "21  Do you feel that being identified as a person ...   object   1433   \n",
       "22  Do you think that team members/co-workers woul...   object   1433   \n",
       "23  Have you ever sought treatment for a mental he...    int64   1433   \n",
       "24                                  What is your age?    int64   1433   \n",
       "\n",
       "    UniqueValues  Unique/Count Ratio  Count of NaN  Percentage NaN  \n",
       "10             5            0.024510          1229       85.764131  \n",
       "0              3            0.011407          1170       81.646895  \n",
       "2              4            0.003949           420       29.309142  \n",
       "3              4            0.003490           287       20.027913  \n",
       "4              4            0.003490           287       20.027913  \n",
       "5              4            0.003490           287       20.027913  \n",
       "6              4            0.003490           287       20.027913  \n",
       "7              4            0.003490           287       20.027913  \n",
       "8              4            0.003490           287       20.027913  \n",
       "9              4            0.003490           287       20.027913  \n",
       "1              5            0.004363           287       20.027913  \n",
       "16             5            0.003956           169       11.793440  \n",
       "20             5            0.003956           169       11.793440  \n",
       "19             5            0.003956           169       11.793440  \n",
       "18             4            0.003165           169       11.793440  \n",
       "17             4            0.003165           169       11.793440  \n",
       "13             5            0.003956           169       11.793440  \n",
       "15             4            0.003165           169       11.793440  \n",
       "14             5            0.003956           169       11.793440  \n",
       "12             5            0.003956           169       11.793440  \n",
       "25            71            0.049650             3        0.209351  \n",
       "11             2            0.001396             0        0.000000  \n",
       "21             5            0.003489             0        0.000000  \n",
       "22             5            0.003489             0        0.000000  \n",
       "23             2            0.001396             0        0.000000  \n",
       "24            53            0.036985             0        0.000000  "
      ]
     },
     "execution_count": 31,
     "metadata": {},
     "output_type": "execute_result"
    }
   ],
   "source": [
    "variableSummary = []\n",
    "for var in df.columns:\n",
    "    variableSummary.append({\n",
    "        'Variable': var,\n",
    "        'Type': df[var].dtype,\n",
    "        'Count': df[var].count(),\n",
    "        'UniqueValues':len(df[var].unique()),\n",
    "        'Unique/Count Ratio':len(df[var].unique())/df[var].count(),\n",
    "        'Count of NaN': df[var].isna().sum(),\n",
    "        'Percentage NaN': df[var].isna().sum() *100 /len(df[var]),\n",
    "    })\n",
    "vs=pd.DataFrame(variableSummary)\n",
    "vs=vs.sort_values(by='Percentage NaN',ascending=False)\n",
    "vs"
   ]
  },
  {
   "cell_type": "code",
   "execution_count": 32,
   "metadata": {},
   "outputs": [
    {
     "data": {
      "text/plain": [
       "''"
      ]
     },
     "execution_count": 32,
     "metadata": {},
     "output_type": "execute_result"
    },
    {
     "data": {
      "image/png": "[encoded data removed]",
      "text/plain": [
       "<Figure size 1080x360 with 1 Axes>"
      ]
     },
     "metadata": {
      "needs_background": "light"
     },
     "output_type": "display_data"
    }
   ],
   "source": [
    "plt.figure(figsize=(15,5))\n",
    "plt.hist(vs['Percentage NaN'])\n",
    "plt.title('Percentage NaN in Variables')\n",
    "plt.xlabel('Percentage(%)')\n",
    "plt.ylabel('Count of Percentage(%)')\n",
    "\n",
    "plt.tight_layout()\n",
    "plt.savefig('../age_distribution.jpg');\n",
    ";"
   ]
  },
  {
   "cell_type": "markdown",
   "metadata": {},
   "source": [
    "### Dropping 50%+ Null Value Columns"
   ]
  },
  {
   "cell_type": "code",
   "execution_count": 33,
   "metadata": {},
   "outputs": [],
   "source": [
    "df.dropna(axis=1,thresh=len(df.values)/2,inplace=True) "
   ]
  },
  {
   "cell_type": "markdown",
   "metadata": {},
   "source": [
    "### Simple Imputing for Null Values"
   ]
  },
  {
   "cell_type": "code",
   "execution_count": 34,
   "metadata": {},
   "outputs": [],
   "source": [
    "imputer = SimpleImputer(missing_values=np.nan, strategy='most_frequent')\n",
    "imputer.fit(df)\n",
    "df= pd.DataFrame(data = imputer.transform(df), columns = df.columns)"
   ]
  },
  {
   "cell_type": "markdown",
   "metadata": {},
   "source": [
    "### Filtering and More Cleaning"
   ]
  },
  {
   "cell_type": "code",
   "execution_count": 35,
   "metadata": {},
   "outputs": [],
   "source": [
    "df[\"What is your gender?\"] = df[\"What is your gender?\"].str.lower().str.strip()\n",
    "male = ['Male', 'male', 'M', 'm', 'Cis Male', 'man', 'ostensibly male, unsure what that really means', 'Mail', 'Make', 'male (cis)', \n",
    "        'cis male', 'maile', 'Malr', 'Cis Man', 'Mal', 'msle', 'male.', 'sex is male', 'malr', 'cis man', 'mail' ]\n",
    "     \n",
    "f = ['Female', 'female', 'F', 'f', 'Woman', 'Femake', 'Female (cis)', 'cis female', 'woman', 'femail', \n",
    "     'cis-female/femme', 'i identify as female.', 'cis-woman', 'cisgender female', 'female (props for making this a freeform field, though)', \n",
    "     'female/woman', 'female assigned at birth' ]\n",
    "\n",
    "df[\"What is your gender?\"] = df[\"What is your gender?\"].replace(male, 'male')\n",
    "df[\"What is your gender?\"] = df[\"What is your gender?\"].replace(f, 'female')\n",
    "\n",
    "other = list(df[\"What is your gender?\"].value_counts().index)[2:]\n",
    "df[\"What is your gender?\"] = df[\"What is your gender?\"].replace(other, 'other')\n",
    "\n",
    "mean_age = df[(df[\"What is your age?\"] >= 18) | (df[\"What is your age?\"] <= 75)][\"What is your age?\"].mean()\n",
    "df[\"What is your age?\"].replace(to_replace = df[(df[\"What is your age?\"] < 18) | (df[\"What is your age?\"] > 75)][\"What is your age?\"].tolist(), value = mean_age, inplace = True)"
   ]
  },
  {
   "cell_type": "markdown",
   "metadata": {},
   "source": [
    "### EDA"
   ]
  },
  {
   "cell_type": "code",
   "execution_count": 36,
   "metadata": {},
   "outputs": [
    {
     "name": "stdout",
     "output_type": "stream",
     "text": [
      "<class 'pandas.core.frame.DataFrame'>\n",
      "RangeIndex: 1433 entries, 0 to 1432\n",
      "Data columns (total 24 columns):\n",
      " #   Column                                                                                                                                          Non-Null Count  Dtype  \n",
      "---  ------                                                                                                                                          --------------  -----  \n",
      " 0   Does your employer provide mental health benefits as part of healthcare coverage?                                                               1433 non-null   object \n",
      " 1   Do you know the options for mental health care available under your employer-provided coverage?                                                 1433 non-null   object \n",
      " 2   Has your employer ever formally discussed mental health (for example, as part of a wellness campaign or other official communication)?          1433 non-null   object \n",
      " 3   Does your employer offer resources to learn more about mental health concerns and options for seeking help?                                     1433 non-null   object \n",
      " 4   Is your anonymity protected if you choose to take advantage of mental health or substance abuse treatment resources provided by your employer?  1433 non-null   object \n",
      " 5   Do you think that discussing a mental health disorder with your employer would have negative consequences?                                      1433 non-null   object \n",
      " 6   Do you think that discussing a physical health issue with your employer would have negative consequences?                                       1433 non-null   object \n",
      " 7   Would you feel comfortable discussing a mental health disorder with your coworkers?                                                             1433 non-null   object \n",
      " 8   Would you feel comfortable discussing a mental health disorder with your direct supervisor(s)?                                                  1433 non-null   object \n",
      " 9   Do you have previous employers?                                                                                                                 1433 non-null   object \n",
      " 10  Have your previous employers provided mental health benefits?                                                                                   1433 non-null   object \n",
      " 11  Were you aware of the options for mental health care provided by your previous employers?                                                       1433 non-null   object \n",
      " 12  Did your previous employers ever formally discuss mental health (as part of a wellness campaign or other official communication)?               1433 non-null   object \n",
      " 13  Did your previous employers provide resources to learn more about mental health issues and how to seek help?                                    1433 non-null   object \n",
      " 14  Was your anonymity protected if you chose to take advantage of mental health or substance abuse treatment resources with previous employers?    1433 non-null   object \n",
      " 15  Do you think that discussing a physical health issue with previous employers would have negative consequences?                                  1433 non-null   object \n",
      " 16  Would you have been willing to discuss a mental health issue with your previous co-workers?                                                     1433 non-null   object \n",
      " 17  Would you have been willing to discuss a mental health issue with your direct supervisor(s)?                                                    1433 non-null   object \n",
      " 18  Did you feel that your previous employers took mental health as seriously as physical health?                                                   1433 non-null   object \n",
      " 19  Do you feel that being identified as a person with a mental health issue would hurt your career?                                                1433 non-null   object \n",
      " 20  Do you think that team members/co-workers would view you more negatively if they knew you suffered from a mental health issue?                  1433 non-null   object \n",
      " 21  Have you ever sought treatment for a mental health issue from a mental health professional?                                                     1433 non-null   object \n",
      " 22  What is your age?                                                                                                                               1433 non-null   float64\n",
      " 23  What is your gender?                                                                                                                            1433 non-null   object \n",
      "dtypes: float64(1), object(23)\n",
      "memory usage: 268.8+ KB\n"
     ]
    }
   ],
   "source": [
    "df.info()"
   ]
  },
  {
   "cell_type": "markdown",
   "metadata": {},
   "source": [
    "### Age Distribution"
   ]
  },
  {
   "cell_type": "code",
   "execution_count": 37,
   "metadata": {
    "scrolled": true
   },
   "outputs": [
    {
     "data": {
      "text/plain": [
       "''"
      ]
     },
     "execution_count": 37,
     "metadata": {},
     "output_type": "execute_result"
    },
    {
     "data": {
      "image/png": "[encoded data removed]",
      "text/plain": [
       "<Figure size 432x288 with 1 Axes>"
      ]
     },
     "metadata": {
      "needs_background": "light"
     },
     "output_type": "display_data"
    }
   ],
   "source": [
    "plt.hist(df['What is your age?'])\n",
    "plt.title('Age Distribution')\n",
    "plt.xlabel('Age')\n",
    "plt.ylabel('Count')\n",
    "\n",
    "plt.tight_layout()\n",
    "plt.savefig('../age_distribution.jpg');\n",
    ";"
   ]
  },
  {
   "cell_type": "markdown",
   "metadata": {},
   "source": [
    "### Sought Treatment vs. Did not seek Treatment"
   ]
  },
  {
   "cell_type": "code",
   "execution_count": 38,
   "metadata": {
    "scrolled": true
   },
   "outputs": [
    {
     "data": {
      "text/plain": [
       "1    839\n",
       "0    594\n",
       "Name: Have you ever sought treatment for a mental health issue from a mental health professional?, dtype: int64"
      ]
     },
     "execution_count": 38,
     "metadata": {},
     "output_type": "execute_result"
    }
   ],
   "source": [
    "df['Have you ever sought treatment for a mental health issue from a mental health professional?'].value_counts()"
   ]
  },
  {
   "cell_type": "markdown",
   "metadata": {},
   "source": [
    "### Seeking Treatment"
   ]
  },
  {
   "cell_type": "code",
   "execution_count": 39,
   "metadata": {},
   "outputs": [
    {
     "data": {
      "text/plain": [
       "''"
      ]
     },
     "execution_count": 39,
     "metadata": {},
     "output_type": "execute_result"
    },
    {
     "data": {
      "image/png": "[encoded data removed]",
      "text/plain": [
       "<Figure size 432x288 with 1 Axes>"
      ]
     },
     "metadata": {
      "needs_background": "light"
     },
     "output_type": "display_data"
    }
   ],
   "source": [
    "df['Have you ever sought treatment for a mental health issue from a mental health professional?'].value_counts().plot.bar(color=['green','red'])\n",
    "plt.title('Response for Seeking Treatment')\n",
    "plt.xlabel('Yes                                          No')\n",
    "plt.ylabel('Count of Values')\n",
    "plt.tight_layout()\n",
    "plt.savefig('../seeking_treatment_response.jpg')\n",
    ";"
   ]
  },
  {
   "cell_type": "code",
   "execution_count": 40,
   "metadata": {
    "scrolled": true
   },
   "outputs": [
    {
     "data": {
      "text/plain": [
       "Yes                                818\n",
       "I don't know                       319\n",
       "No                                 213\n",
       "Not eligible for coverage / N/A     83\n",
       "Name: Does your employer provide mental health benefits as part of healthcare coverage?, dtype: int64"
      ]
     },
     "execution_count": 40,
     "metadata": {},
     "output_type": "execute_result"
    }
   ],
   "source": [
    "df['Does your employer provide mental health benefits as part of healthcare coverage?'].value_counts()\n"
   ]
  },
  {
   "cell_type": "markdown",
   "metadata": {},
   "source": [
    "### Healthcare Knowledge"
   ]
  },
  {
   "cell_type": "code",
   "execution_count": 41,
   "metadata": {},
   "outputs": [
    {
     "data": {
      "text/plain": [
       "''"
      ]
     },
     "execution_count": 41,
     "metadata": {},
     "output_type": "execute_result"
    },
    {
     "data": {
      "image/png": "[encoded data removed]",
      "text/plain": [
       "<Figure size 432x288 with 1 Axes>"
      ]
     },
     "metadata": {
      "needs_background": "light"
     },
     "output_type": "display_data"
    }
   ],
   "source": [
    "plt.hist(df['Does your employer provide mental health benefits as part of healthcare coverage?'])\n",
    "plt.title('Response to Knowledge of Healthcare Coverage Distribution')\n",
    "plt.xlabel('Response')\n",
    "plt.ylabel('Count')\n",
    "\n",
    "plt.tight_layout()\n",
    "plt.savefig('../mental_health_coverage_distribution.jpg')\n",
    ";"
   ]
  },
  {
   "cell_type": "markdown",
   "metadata": {},
   "source": [
    "### Gender Count"
   ]
  },
  {
   "cell_type": "code",
   "execution_count": 42,
   "metadata": {},
   "outputs": [
    {
     "data": {
      "text/plain": [
       "male      1056\n",
       "female     336\n",
       "other       41\n",
       "Name: What is your gender?, dtype: int64"
      ]
     },
     "execution_count": 42,
     "metadata": {},
     "output_type": "execute_result"
    }
   ],
   "source": [
    "df['What is your gender?'].value_counts()"
   ]
  },
  {
   "cell_type": "markdown",
   "metadata": {},
   "source": [
    "### Top 10 questions"
   ]
  },
  {
   "cell_type": "code",
   "execution_count": 24,
   "metadata": {},
   "outputs": [
    {
     "data": {
      "text/html": [
       "<div>\n",
       "<style scoped>\n",
       "    .dataframe tbody tr th:only-of-type {\n",
       "        vertical-align: middle;\n",
       "    }\n",
       "\n",
       "    .dataframe tbody tr th {\n",
       "        vertical-align: top;\n",
       "    }\n",
       "\n",
       "    .dataframe thead th {\n",
       "        text-align: right;\n",
       "    }\n",
       "</style>\n",
       "<table border=\"1\" class=\"dataframe\">\n",
       "  <thead>\n",
       "    <tr style=\"text-align: right;\">\n",
       "      <th></th>\n",
       "      <th>weights</th>\n",
       "    </tr>\n",
       "  </thead>\n",
       "  <tbody>\n",
       "    <tr>\n",
       "      <th>What is your age?</th>\n",
       "      <td>0.098172</td>\n",
       "    </tr>\n",
       "    <tr>\n",
       "      <th>What is your gender?_male</th>\n",
       "      <td>0.076974</td>\n",
       "    </tr>\n",
       "    <tr>\n",
       "      <th>Were you aware of the options for mental health care provided by your previous employers?_N/A (not currently aware)</th>\n",
       "      <td>0.067696</td>\n",
       "    </tr>\n",
       "    <tr>\n",
       "      <th>Do you know the options for mental health care available under your employer-provided coverage?_Yes</th>\n",
       "      <td>0.038887</td>\n",
       "    </tr>\n",
       "    <tr>\n",
       "      <th>Do you feel that being identified as a person with a mental health issue would hurt your career?_Yes, it has</th>\n",
       "      <td>0.027910</td>\n",
       "    </tr>\n",
       "    <tr>\n",
       "      <th>Did you feel that your previous employers took mental health as seriously as physical health?_Some did</th>\n",
       "      <td>0.025747</td>\n",
       "    </tr>\n",
       "    <tr>\n",
       "      <th>Does your employer provide mental health benefits as part of healthcare coverage?_Yes</th>\n",
       "      <td>0.024201</td>\n",
       "    </tr>\n",
       "    <tr>\n",
       "      <th>Do you know the options for mental health care available under your employer-provided coverage?_No</th>\n",
       "      <td>0.024174</td>\n",
       "    </tr>\n",
       "    <tr>\n",
       "      <th>Do you think that discussing a mental health disorder with your employer would have negative consequences?_No</th>\n",
       "      <td>0.023423</td>\n",
       "    </tr>\n",
       "    <tr>\n",
       "      <th>Have your previous employers provided mental health benefits?_Some did</th>\n",
       "      <td>0.019462</td>\n",
       "    </tr>\n",
       "  </tbody>\n",
       "</table>\n",
       "</div>"
      ],
      "text/plain": [
       "                                                     weights\n",
       "What is your age?                                   0.098172\n",
       "What is your gender?_male                           0.076974\n",
       "Were you aware of the options for mental health...  0.067696\n",
       "Do you know the options for mental health care ...  0.038887\n",
       "Do you feel that being identified as a person w...  0.027910\n",
       "Did you feel that your previous employers took ...  0.025747\n",
       "Does your employer provide mental health benefi...  0.024201\n",
       "Do you know the options for mental health care ...  0.024174\n",
       "Do you think that discussing a mental health di...  0.023423\n",
       "Have your previous employers provided mental he...  0.019462"
      ]
     },
     "execution_count": 24,
     "metadata": {},
     "output_type": "execute_result"
    }
   ],
   "source": [
    "pd.DataFrame(gs.best_estimator_.feature_importances_, index=gs.best_estimator_.feature_names_in_, columns=['weights']).sort_values(by='weights', ascending=False).head(10)"
   ]
  }
 ],
 "metadata": {
  "kernelspec": {
   "display_name": "Python 3",
   "language": "python",
   "name": "python3"
  },
  "language_info": {
   "codemirror_mode": {
    "name": "ipython",
    "version": 3
   },
   "file_extension": ".py",
   "mimetype": "text/x-python",
   "name": "python",
   "nbconvert_exporter": "python",
   "pygments_lexer": "ipython3",
   "version": "3.8.5"
  }
 },
 "nbformat": 4,
 "nbformat_minor": 4
}
